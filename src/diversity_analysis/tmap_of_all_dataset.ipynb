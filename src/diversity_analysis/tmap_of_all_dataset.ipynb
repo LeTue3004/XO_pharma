{
 "cells": [
  {
   "cell_type": "code",
   "execution_count": 1,
   "metadata": {},
   "outputs": [],
   "source": [
    "import pandas as pd\n",
    "import tmap as tmap\n",
    "from faerun import Faerun\n",
    "\n",
    "from rdkit.Chem import AllChem\n",
    "from rdkit import Chem\n",
    "from rdkit.Chem import Descriptors, MACCSkeys\n",
    "from rdkit.ML.Descriptors import MoleculeDescriptors\n",
    "from matplotlib.colors import ListedColormap\n",
    "from rdkit.Chem.Descriptors import ExactMolWt\n",
    "\n",
    "import pandas as pd\n",
    "import numpy as np"
   ]
  },
  {
   "cell_type": "code",
   "execution_count": 2,
   "metadata": {},
   "outputs": [],
   "source": [
    "#Train test data\n",
    "train_test_path = \"/home/mylab-pharma/Code/tuele/XO/data/train_test_data/XO_train_test_data_for_tmap.xlsx\"\n",
    "train_dataset = pd.read_excel(train_test_path, sheet_name='train_dataset')\n",
    "test_dataset = pd.read_excel(train_test_path, sheet_name='test_dataset')\n",
    "validation_dataset = pd.read_excel(train_test_path, sheet_name='validation_dataset')\n",
    "\n",
    "#Add data belonging\n",
    "belong_col_name = \"Belong_to\"\n",
    "train_dataset[belong_col_name] = \"Training data\"\n",
    "test_dataset[belong_col_name] = \"Testing data\"\n",
    "validation_dataset[belong_col_name] = \"Validation data\"\n",
    "\n",
    "#Train_test_dataset = combine of all three\n",
    "all_dataset = pd.concat([train_dataset, validation_dataset, test_dataset], axis=0)\n",
    "\n",
    "#Getting the classifier\n",
    "all_data_path = \"/home/mylab-pharma/Code/tuele/XO/data/raw_data/20240530_data_XO_with substructure.xlsx\"\n",
    "\n",
    "zgb_classifer_df = pd.read_excel(all_data_path, sheet_name='Substructures')"
   ]
  },
  {
   "cell_type": "code",
   "execution_count": 3,
   "metadata": {},
   "outputs": [
    {
     "name": "stdout",
     "output_type": "stream",
     "text": [
      "337 73 73 483\n"
     ]
    }
   ],
   "source": [
    "print(len(train_dataset), len(test_dataset), len(validation_dataset), len(all_dataset))"
   ]
  },
  {
   "cell_type": "code",
   "execution_count": 4,
   "metadata": {},
   "outputs": [
    {
     "data": {
      "text/html": [
       "<div>\n",
       "<style scoped>\n",
       "    .dataframe tbody tr th:only-of-type {\n",
       "        vertical-align: middle;\n",
       "    }\n",
       "\n",
       "    .dataframe tbody tr th {\n",
       "        vertical-align: top;\n",
       "    }\n",
       "\n",
       "    .dataframe thead th {\n",
       "        text-align: right;\n",
       "    }\n",
       "</style>\n",
       "<table border=\"1\" class=\"dataframe\">\n",
       "  <thead>\n",
       "    <tr style=\"text-align: right;\">\n",
       "      <th></th>\n",
       "      <th>CID</th>\n",
       "      <th>SMILES</th>\n",
       "      <th>IC50(nM)</th>\n",
       "      <th>aid</th>\n",
       "      <th>Type</th>\n",
       "      <th>Substructure</th>\n",
       "      <th>Belong_to</th>\n",
       "    </tr>\n",
       "  </thead>\n",
       "  <tbody>\n",
       "    <tr>\n",
       "      <th>0</th>\n",
       "      <td>145967694</td>\n",
       "      <td>CC1=CC2=C(C=C1)N=C(O2)/C(=N/O)/CC3=CC=CC=C3</td>\n",
       "      <td>17500.0</td>\n",
       "      <td>1389558</td>\n",
       "      <td>active</td>\n",
       "      <td>16</td>\n",
       "      <td>Training data</td>\n",
       "    </tr>\n",
       "    <tr>\n",
       "      <th>1</th>\n",
       "      <td>76329670</td>\n",
       "      <td>CC1(C=CC2=CC(=C(C=C2O1)O)C(=O)/C=C/C3=CC(=C(C=...</td>\n",
       "      <td>1800.0</td>\n",
       "      <td>1485273</td>\n",
       "      <td>inactive</td>\n",
       "      <td>6</td>\n",
       "      <td>Training data</td>\n",
       "    </tr>\n",
       "    <tr>\n",
       "      <th>2</th>\n",
       "      <td>5320686</td>\n",
       "      <td>C1=CC(=CC=C1/C=C/C(=O)OC[C@@H]2[C@H]([C@@H]([C...</td>\n",
       "      <td>100000.0</td>\n",
       "      <td>399340</td>\n",
       "      <td>active</td>\n",
       "      <td>10</td>\n",
       "      <td>Training data</td>\n",
       "    </tr>\n",
       "    <tr>\n",
       "      <th>3</th>\n",
       "      <td>155903284</td>\n",
       "      <td>C1=CC(=CC=C1C2=NC=NN2)NC(=O)C3C(NC(=O)NC3=O)O</td>\n",
       "      <td>1400.0</td>\n",
       "      <td>1806026</td>\n",
       "      <td>inactive</td>\n",
       "      <td>1</td>\n",
       "      <td>Training data</td>\n",
       "    </tr>\n",
       "    <tr>\n",
       "      <th>4</th>\n",
       "      <td>137648214</td>\n",
       "      <td>CCCCC1=NN2C(=N1)C3=C(NC2=O)NN=C3</td>\n",
       "      <td>529.0</td>\n",
       "      <td>1485284</td>\n",
       "      <td>inactive</td>\n",
       "      <td>1</td>\n",
       "      <td>Training data</td>\n",
       "    </tr>\n",
       "  </tbody>\n",
       "</table>\n",
       "</div>"
      ],
      "text/plain": [
       "         CID                                             SMILES  IC50(nM)  \\\n",
       "0  145967694        CC1=CC2=C(C=C1)N=C(O2)/C(=N/O)/CC3=CC=CC=C3   17500.0   \n",
       "1   76329670  CC1(C=CC2=CC(=C(C=C2O1)O)C(=O)/C=C/C3=CC(=C(C=...    1800.0   \n",
       "2    5320686  C1=CC(=CC=C1/C=C/C(=O)OC[C@@H]2[C@H]([C@@H]([C...  100000.0   \n",
       "3  155903284      C1=CC(=CC=C1C2=NC=NN2)NC(=O)C3C(NC(=O)NC3=O)O    1400.0   \n",
       "4  137648214                   CCCCC1=NN2C(=N1)C3=C(NC2=O)NN=C3     529.0   \n",
       "\n",
       "       aid      Type  Substructure      Belong_to  \n",
       "0  1389558    active            16  Training data  \n",
       "1  1485273  inactive             6  Training data  \n",
       "2   399340    active            10  Training data  \n",
       "3  1806026  inactive             1  Training data  \n",
       "4  1485284  inactive             1  Training data  "
      ]
     },
     "execution_count": 4,
     "metadata": {},
     "output_type": "execute_result"
    }
   ],
   "source": [
    "all_dataset.head()"
   ]
  },
  {
   "cell_type": "code",
   "execution_count": 5,
   "metadata": {},
   "outputs": [
    {
     "data": {
      "text/plain": [
       "{1: '1,2,4-Triazole',\n",
       " 2: 'catechol',\n",
       " 3: 'pyrimidine',\n",
       " 4: '1H-pyrazole-4-carbonitrile',\n",
       " 5: '4-methylthiazole-5-carboxylic acid',\n",
       " 6: 'butein',\n",
       " 7: 'coumarin',\n",
       " 8: 'isocytosine',\n",
       " 9: 'fisetin',\n",
       " 10: 'kaempferol',\n",
       " 11: 'luteolin',\n",
       " 12: 'diosmetin',\n",
       " 13: 'quercetin',\n",
       " 14: 'taxifolin',\n",
       " 15: 'myricetin',\n",
       " 16: 'khác'}"
      ]
     },
     "execution_count": 5,
     "metadata": {},
     "output_type": "execute_result"
    }
   ],
   "source": [
    "zgb_dict = zgb_classifer_df.set_index('Code')['Substructure'].to_dict()\n",
    "zgb_dict"
   ]
  },
  {
   "cell_type": "code",
   "execution_count": 6,
   "metadata": {},
   "outputs": [],
   "source": [
    "#MACCS\n",
    "from tqdm import tqdm\n",
    "\n",
    "def tmap_maccs_fpts(data):\n",
    "    Maccs_fpts = []\n",
    "    count = 0\n",
    "    with tqdm(total=len(data), desc='Progress') as pbar:\n",
    "        for i in data:\n",
    "            try:\n",
    "                mol = Chem.MolFromSmiles(i)\n",
    "            except:\n",
    "                print(\"An exception occurred with \" + str(count))\n",
    "                continue\n",
    "            fpts = MACCSkeys.GenMACCSKeys(mol)\n",
    "            mfpts = np.array(fpts)\n",
    "            mfpts = tmap.VectorUint(mfpts)\n",
    "            Maccs_fpts.append(mfpts)\n",
    "            count += 1\n",
    "            pbar.update(1)  # Update the progress bar\n",
    "    return np.array(Maccs_fpts)\n",
    "\n",
    "#Morgan2\n",
    "def tmap_morgan_fpts(data):\n",
    "    Morgan_fpts = []\n",
    "    count = 0\n",
    "    with tqdm(total=len(data), desc='Progress') as pbar:\n",
    "        for i in data:\n",
    "            try:\n",
    "                mol = Chem.MolFromSmiles(i)\n",
    "            except:\n",
    "                print(\"An exception occurred with \" + str(count))\n",
    "                continue\n",
    "            fpts = AllChem.GetMorganFingerprintAsBitVect(mol, 2, 1024)\n",
    "            mfpts = np.array(fpts)\n",
    "            mfpts = tmap.VectorUint(mfpts)\n",
    "            Morgan_fpts.append(mfpts)\n",
    "            count += 1\n",
    "            pbar.update(1)  # Update the progress bar\n",
    "    return Morgan_fpts"
   ]
  },
  {
   "cell_type": "code",
   "execution_count": 39,
   "metadata": {},
   "outputs": [
    {
     "name": "stderr",
     "output_type": "stream",
     "text": [
      "Progress: 100%|██████████| 483/483 [00:00<00:00, 2181.51it/s]\n"
     ]
    }
   ],
   "source": [
    "fps = tmap_morgan_fpts(all_dataset[\"SMILES\"])"
   ]
  },
  {
   "cell_type": "code",
   "execution_count": 40,
   "metadata": {},
   "outputs": [
    {
     "data": {
      "text/plain": [
       "1024"
      ]
     },
     "execution_count": 40,
     "metadata": {},
     "output_type": "execute_result"
    }
   ],
   "source": [
    "len(fps[0])"
   ]
  },
  {
   "cell_type": "markdown",
   "metadata": {},
   "source": [
    "# Generate Tmap Layout"
   ]
  },
  {
   "cell_type": "markdown",
   "metadata": {},
   "source": [
    "Generate labels"
   ]
  },
  {
   "cell_type": "code",
   "execution_count": 41,
   "metadata": {},
   "outputs": [],
   "source": [
    "ic50 = []\n",
    "labels = []\n",
    "belong_to_groups = []\n",
    "zbg_classifier_groups = []\n",
    "active_inactive_groups = []\n",
    "molecular_weight = []\n",
    "chembl_url = \"https://www.ebi.ac.uk/chembl/compound_report_card/\"\n",
    "pubchem_url = \"https://pubchem.ncbi.nlm.nih.gov/compound/\"\n",
    "\n",
    "for i, row in all_dataset.iterrows():\n",
    "    smiles = row['SMILES']\n",
    "    mol = AllChem.MolFromSmiles(smiles)\n",
    "    cid = str(row['CID'])\n",
    "    if cid[-1].isalpha():\n",
    "        cid = cid[:-1]\n",
    "    \n",
    "    labels.append(\n",
    "            f'{smiles}__<a href=\"{pubchem_url+str(cid)}\" target=\"_blank\">{smiles}</a>__{smiles}'.replace(\n",
    "                \"'\", \"\"\n",
    "            )\n",
    "        )\n",
    "    ic50.append(row['IC50(nM)'])\n",
    "    # zbg labels groups\n",
    "    zbg_classifier_groups.append(zgb_dict[row['Substructure']])\n",
    "    #Active inactive label groups\n",
    "    active_inactive_groups.append(row['Type'])\n",
    "    #Belong to groups\n",
    "    belong_to_groups.append(row[belong_col_name])\n",
    "    #Molecular weight\n",
    "    smiles_mw = ExactMolWt(mol)\n",
    "    molecular_weight.append(smiles_mw)"
   ]
  },
  {
   "cell_type": "code",
   "execution_count": 42,
   "metadata": {},
   "outputs": [
    {
     "name": "stdout",
     "output_type": "stream",
     "text": [
      "483 483 483 483 483\n"
     ]
    }
   ],
   "source": [
    "print(len(belong_to_groups), len(ic50), len(zbg_classifier_groups), len(active_inactive_groups), len(labels))"
   ]
  },
  {
   "cell_type": "markdown",
   "metadata": {},
   "source": [
    "__Preprocessing the groups labels__"
   ]
  },
  {
   "cell_type": "code",
   "execution_count": 43,
   "metadata": {},
   "outputs": [],
   "source": [
    "import scipy.stats as ss\n",
    "# Create the labels and the integer encoded array for the groups,\n",
    "# as they're categorical\n",
    "zgb_labels_groups, zgb_groups = Faerun.create_categories(zbg_classifier_groups)\n",
    "activity_labels_groups, activity_groups = Faerun.create_categories(active_inactive_groups)\n",
    "belong_labels_groups, belong_groups = Faerun.create_categories(belong_to_groups)\n",
    "#scale IC50\n",
    "ic50_ranked = ss.rankdata(np.array(ic50) / max(ic50)) / len(ic50)\n",
    "mw_ranked = ss.rankdata(np.array(molecular_weight) / max(molecular_weight)) / len(molecular_weight)"
   ]
  },
  {
   "cell_type": "code",
   "execution_count": 44,
   "metadata": {},
   "outputs": [
    {
     "data": {
      "text/plain": [
       "[(0, 'Testing data'), (1, 'Training data'), (2, 'Validation data')]"
      ]
     },
     "execution_count": 44,
     "metadata": {},
     "output_type": "execute_result"
    }
   ],
   "source": [
    "belong_labels_groups"
   ]
  },
  {
   "cell_type": "code",
   "execution_count": 45,
   "metadata": {},
   "outputs": [],
   "source": [
    "\n",
    "bits = len(fps[0])\n",
    "k = 300\n",
    "enc = tmap.Minhash(bits)\n",
    "lf = tmap.LSHForest(bits, 128)\n",
    "lf.batch_add(enc.batch_from_binary_array(fps))\n",
    "lf.index()\n",
    "cfg = tmap.LayoutConfiguration()\n",
    "cfg.k = k\n",
    "cfg.sl_repeats = 2\n",
    "cfg.mmm_repeats = 2\n",
    "cfg.node_size = 2\n",
    "x, y, s, t, _ = tmap.layout_from_lsh_forest(lf, config=cfg)"
   ]
  },
  {
   "cell_type": "code",
   "execution_count": 46,
   "metadata": {},
   "outputs": [
    {
     "data": {
      "text/plain": [
       "483"
      ]
     },
     "execution_count": 46,
     "metadata": {},
     "output_type": "execute_result"
    }
   ],
   "source": [
    "len(x)"
   ]
  },
  {
   "cell_type": "code",
   "execution_count": 47,
   "metadata": {},
   "outputs": [
    {
     "data": {
      "text/html": [
       "\n",
       "        <iframe\n",
       "            width=\"100%\"\n",
       "            height=\"500\"\n",
       "            src=\"./../../results/tmap/final_XO_ECFP4_tmap.html\"\n",
       "            frameborder=\"0\"\n",
       "            allowfullscreen\n",
       "            \n",
       "        ></iframe>\n",
       "        "
      ],
      "text/plain": [
       "<IPython.lib.display.IFrame at 0x708a556392e0>"
      ]
     },
     "metadata": {},
     "output_type": "display_data"
    },
    {
     "data": {
      "text/html": [
       "<a href='./../../results/tmap/final_XO_ECFP4_tmap.html' target='_blank'>./../../results/tmap/final_XO_ECFP4_tmap.html</a><br>"
      ],
      "text/plain": [
       "/home/mylab-pharma/Code/tuele/XO/results/tmap/final_XO_ECFP4_tmap.html"
      ]
     },
     "metadata": {},
     "output_type": "display_data"
    }
   ],
   "source": [
    "from matplotlib.colors import LinearSegmentedColormap\n",
    "faerun = Faerun(view=\"front\", clear_color=\"#ffffff\", coords=False)\n",
    "\n",
    "custom_cmap = ListedColormap(\n",
    "[\"#1f77b4\", \"#ff7f0e\", \"#2ca02c\", \"#d62728\", \n",
    " \"#9467bd\", \"#8c564b\", \"#e377c2\", \"#7f7f7f\",\n",
    " \"#17becf\", \"#000080\", \"#ff1493\", \"#00ff00\", \n",
    " \"#ffa500\", \"#008080\", \"#ff00ff\", \"#00ffff\"],\n",
    "name=\"custom\",)\n",
    "\n",
    "faerun.add_scatter(\n",
    "        \"chembl\",\n",
    "        {\"x\": x, \n",
    "         \"y\": y, \n",
    "         \"c\": [zgb_groups, belong_groups, activity_groups, ic50_ranked, mw_ranked], \n",
    "         \"labels\": labels},\n",
    "        colormap=[custom_cmap, custom_cmap, custom_cmap, \"viridis\", \"viridis\"],\n",
    "        # change the size of view point\n",
    "        # point_scale=4.5,\n",
    "        # max_point_size=10,\n",
    "        point_scale=9,\n",
    "        max_point_size=20,\n",
    "        has_legend=True,\n",
    "        categorical=[True, True, True, False, False],\n",
    "        shader=\"smoothCircle\",\n",
    "        legend_labels=[zgb_labels_groups, belong_labels_groups, activity_labels_groups],\n",
    "        selected_labels=[\"SMILES\", \"PubChem CID\", \"Name\"],\n",
    "        series_title=[\"ZGB Classifier group\", \"Dataset label group\", \"Activity label group\", \"IC50 (nM)\", \"Molecular Weight\"],\n",
    "        max_legend_label=[None, None, None, str(round(max(ic50))), str(round(max(molecular_weight)))],\n",
    "        min_legend_label=[None, None, None, str(round(min(ic50))), str(round(min(molecular_weight)))],\n",
    "        title_index=2,\n",
    "        legend_title=\"\"\n",
    "    )\n",
    "faerun.add_tree(\n",
    "    \"pubchem_tree\", {\"from\": s, \"to\": t}, point_helper=\"chembl\", color=\"#222222\"\n",
    ")\n",
    "# You may see a different Tmap from what us generated since the index of the data-points are randomly generated depending on the runtime environment.\n",
    "# Howerver, the way your tmap branches connected will be similar to ours.\n",
    "faerun.plot(file_name=\"../../results/tmap/final_XO_ECFP4_tmap\", template=\"smiles\")\n",
    "# LOOK OUT!!! BECAUSE THE LEGEND BACKGROUND IS BLACK, YOU SHOULD CHANGE IT IN HTML FILE, WHICH IN LEGEND -> background color "
   ]
  }
 ],
 "metadata": {
  "kernelspec": {
   "display_name": "my-rdkit-env",
   "language": "python",
   "name": "python3"
  },
  "language_info": {
   "codemirror_mode": {
    "name": "ipython",
    "version": 3
   },
   "file_extension": ".py",
   "mimetype": "text/x-python",
   "name": "python",
   "nbconvert_exporter": "python",
   "pygments_lexer": "ipython3",
   "version": "3.9.16"
  },
  "orig_nbformat": 4
 },
 "nbformat": 4,
 "nbformat_minor": 2
}
