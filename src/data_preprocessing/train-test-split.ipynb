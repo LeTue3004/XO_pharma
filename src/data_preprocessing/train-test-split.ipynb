{
 "cells": [
  {
   "cell_type": "code",
   "execution_count": 20,
   "metadata": {},
   "outputs": [],
   "source": [
    "from rdkit.Chem import AllChem\n",
    "from rdkit import Chem\n",
    "from rdkit.Chem import Descriptors, MACCSkeys\n",
    "from rdkit.ML.Descriptors import MoleculeDescriptors\n",
    "\n",
    "import pandas as pd\n",
    "import numpy as np\n",
    "import matplotlib.pyplot as plt\n",
    "from tabulate import tabulate\n",
    "\n",
    "from sklearn import preprocessing\n",
    "from sklearn.model_selection import cross_val_predict\n",
    "from sklearn.metrics import accuracy_score"
   ]
  },
  {
   "attachments": {},
   "cell_type": "markdown",
   "metadata": {},
   "source": [
    "# Read the data"
   ]
  },
  {
   "cell_type": "code",
   "execution_count": 21,
   "metadata": {},
   "outputs": [
    {
     "data": {
      "text/plain": [
       "483"
      ]
     },
     "execution_count": 21,
     "metadata": {},
     "output_type": "execute_result"
    }
   ],
   "source": [
    "all_data_path = \"/home/mylab-pharma/Code/tuele/XO/data/raw_data/20240530_data_XO_with substructure.xlsx\"\n",
    "dataset = pd.read_excel(all_data_path, sheet_name='Preprocessed')\n",
    "dataset_length = len(dataset)\n",
    "dataset_length"
   ]
  },
  {
   "cell_type": "code",
   "execution_count": 22,
   "metadata": {},
   "outputs": [
    {
     "data": {
      "text/html": [
       "<div>\n",
       "<style scoped>\n",
       "    .dataframe tbody tr th:only-of-type {\n",
       "        vertical-align: middle;\n",
       "    }\n",
       "\n",
       "    .dataframe tbody tr th {\n",
       "        vertical-align: top;\n",
       "    }\n",
       "\n",
       "    .dataframe thead th {\n",
       "        text-align: right;\n",
       "    }\n",
       "</style>\n",
       "<table border=\"1\" class=\"dataframe\">\n",
       "  <thead>\n",
       "    <tr style=\"text-align: right;\">\n",
       "      <th></th>\n",
       "      <th>CID</th>\n",
       "      <th>SMILES</th>\n",
       "      <th>IC50(nM)</th>\n",
       "      <th>aid</th>\n",
       "      <th>Type</th>\n",
       "      <th>Substructure</th>\n",
       "    </tr>\n",
       "  </thead>\n",
       "  <tbody>\n",
       "    <tr>\n",
       "      <th>0</th>\n",
       "      <td>190</td>\n",
       "      <td>C1=NC2=NC=NC(=C2N1)N</td>\n",
       "      <td>10890.0</td>\n",
       "      <td>287937</td>\n",
       "      <td>active</td>\n",
       "      <td>3</td>\n",
       "    </tr>\n",
       "    <tr>\n",
       "      <th>1</th>\n",
       "      <td>471</td>\n",
       "      <td>C1=CC(=C(C=C1C2C(C(=O)C3=C(C=C(C=C3O2)O)O)O)O)O</td>\n",
       "      <td>100000.0</td>\n",
       "      <td>399340</td>\n",
       "      <td>active</td>\n",
       "      <td>14</td>\n",
       "    </tr>\n",
       "    <tr>\n",
       "      <th>2</th>\n",
       "      <td>675</td>\n",
       "      <td>CC1=CC2=C(C=C1C)N=CN2</td>\n",
       "      <td>200000.0</td>\n",
       "      <td>287937</td>\n",
       "      <td>active</td>\n",
       "      <td>16</td>\n",
       "    </tr>\n",
       "    <tr>\n",
       "      <th>3</th>\n",
       "      <td>938</td>\n",
       "      <td>C1=CC(=CN=C1)C(=O)O</td>\n",
       "      <td>518230.0</td>\n",
       "      <td>1444598</td>\n",
       "      <td>active</td>\n",
       "      <td>16</td>\n",
       "    </tr>\n",
       "    <tr>\n",
       "      <th>4</th>\n",
       "      <td>4947</td>\n",
       "      <td>CCCOC(=O)C1=CC(=C(C(=C1)O)O)O</td>\n",
       "      <td>628000.0</td>\n",
       "      <td>378145</td>\n",
       "      <td>active</td>\n",
       "      <td>2</td>\n",
       "    </tr>\n",
       "  </tbody>\n",
       "</table>\n",
       "</div>"
      ],
      "text/plain": [
       "    CID                                           SMILES  IC50(nM)      aid  \\\n",
       "0   190                             C1=NC2=NC=NC(=C2N1)N   10890.0   287937   \n",
       "1   471  C1=CC(=C(C=C1C2C(C(=O)C3=C(C=C(C=C3O2)O)O)O)O)O  100000.0   399340   \n",
       "2   675                            CC1=CC2=C(C=C1C)N=CN2  200000.0   287937   \n",
       "3   938                              C1=CC(=CN=C1)C(=O)O  518230.0  1444598   \n",
       "4  4947                    CCCOC(=O)C1=CC(=C(C(=C1)O)O)O  628000.0   378145   \n",
       "\n",
       "     Type  Substructure  \n",
       "0  active             3  \n",
       "1  active            14  \n",
       "2  active            16  \n",
       "3  active            16  \n",
       "4  active             2  "
      ]
     },
     "execution_count": 22,
     "metadata": {},
     "output_type": "execute_result"
    }
   ],
   "source": [
    "dataset.head()"
   ]
  },
  {
   "attachments": {},
   "cell_type": "markdown",
   "metadata": {},
   "source": [
    "# 1. Profile of the data"
   ]
  },
  {
   "cell_type": "code",
   "execution_count": 23,
   "metadata": {},
   "outputs": [],
   "source": [
    "def check_activity_distribution(dataset, col_name):\n",
    "    active_rows = dataset.loc[dataset[col_name] == \"active\"]\n",
    "    inactive_rows = dataset.loc[dataset[col_name] == \"inactive\"]\n",
    "\n",
    "    dataset_length = len(dataset)\n",
    "\n",
    "    print(\"Total dataset\")\n",
    "    table = [['', 'Active', 'Inactive'], \n",
    "            ['Number', len(active_rows), len(inactive_rows)],\n",
    "            ['Percentage (%)', len(active_rows)/dataset_length*100, len(inactive_rows)/dataset_length*100]]\n",
    "    print(tabulate(table, headers='firstrow', tablefmt='fancy_grid'))"
   ]
  },
  {
   "attachments": {},
   "cell_type": "markdown",
   "metadata": {},
   "source": [
    "__Train on the final label, not the first label__"
   ]
  },
  {
   "cell_type": "code",
   "execution_count": 24,
   "metadata": {},
   "outputs": [
    {
     "name": "stdout",
     "output_type": "stream",
     "text": [
      "Total dataset\n",
      "╒════════════════╤══════════╤════════════╕\n",
      "│                │   Active │   Inactive │\n",
      "╞════════════════╪══════════╪════════════╡\n",
      "│ Number         │ 267      │   216      │\n",
      "├────────────────┼──────────┼────────────┤\n",
      "│ Percentage (%) │  55.2795 │    44.7205 │\n",
      "╘════════════════╧══════════╧════════════╛\n"
     ]
    }
   ],
   "source": [
    "check_activity_distribution(dataset=dataset, col_name='Type')"
   ]
  },
  {
   "attachments": {},
   "cell_type": "markdown",
   "metadata": {},
   "source": [
    "# 2. Train test split"
   ]
  },
  {
   "cell_type": "code",
   "execution_count": 25,
   "metadata": {},
   "outputs": [
    {
     "name": "stdout",
     "output_type": "stream",
     "text": [
      "483\n"
     ]
    }
   ],
   "source": [
    "dataset_c = dataset.copy()\n",
    "print(len(dataset_c))"
   ]
  },
  {
   "cell_type": "code",
   "execution_count": 26,
   "metadata": {},
   "outputs": [],
   "source": [
    "from sklearn.model_selection import train_test_split\n",
    "\n",
    "# Define thông tin\n",
    "train_test_data_path = \"/home/mylab-pharma/Code/tuele/XO/data/train_test_data\"\n",
    "train_test_file_name = \"XO_train_test_data_for_tmap.xlsx\"\n",
    "test_size = 0.1765  # 15% của tổng số dữ liệu, do bị chia lần 2 \n",
    "validation_size = 0.15  # 15% của tổng số dữ liệu (sau khi đã loại bỏ test set)\n",
    "random_state = 42\n",
    "\n",
    "# Tạo dữ liệu\n",
    "# train_test_data = dataset_c.drop(['IC50(nM)'], axis=1)\n",
    "train_test_data = dataset_c\n",
    "labels = dataset_c['Type']  # Cột chứa nhãn lớp (active/inactive)\n",
    "\n",
    "# Chia tập train_test_data thành train_test và validation\n",
    "train_test_data, validation_dataset, train_labels, validation_labels = train_test_split(\n",
    "    train_test_data, labels, test_size=validation_size, random_state=random_state, stratify=labels\n",
    ")\n",
    "\n",
    "# Chia tập train_test thành train và test\n",
    "train_dataset, test_dataset, train_labels, test_labels = train_test_split(\n",
    "    train_test_data, train_labels, test_size=test_size, random_state=random_state, stratify=train_labels\n",
    ")"
   ]
  },
  {
   "cell_type": "code",
   "execution_count": 27,
   "metadata": {},
   "outputs": [
    {
     "name": "stdout",
     "output_type": "stream",
     "text": [
      "337 73 73\n"
     ]
    }
   ],
   "source": [
    "print(len(train_dataset), len(validation_dataset), len(test_dataset))"
   ]
  },
  {
   "cell_type": "code",
   "execution_count": 28,
   "metadata": {},
   "outputs": [
    {
     "data": {
      "text/html": [
       "<div>\n",
       "<style scoped>\n",
       "    .dataframe tbody tr th:only-of-type {\n",
       "        vertical-align: middle;\n",
       "    }\n",
       "\n",
       "    .dataframe tbody tr th {\n",
       "        vertical-align: top;\n",
       "    }\n",
       "\n",
       "    .dataframe thead th {\n",
       "        text-align: right;\n",
       "    }\n",
       "</style>\n",
       "<table border=\"1\" class=\"dataframe\">\n",
       "  <thead>\n",
       "    <tr style=\"text-align: right;\">\n",
       "      <th></th>\n",
       "      <th>CID</th>\n",
       "      <th>SMILES</th>\n",
       "      <th>IC50(nM)</th>\n",
       "      <th>aid</th>\n",
       "      <th>Type</th>\n",
       "      <th>Substructure</th>\n",
       "    </tr>\n",
       "  </thead>\n",
       "  <tbody>\n",
       "    <tr>\n",
       "      <th>304</th>\n",
       "      <td>145967694</td>\n",
       "      <td>CC1=CC2=C(C=C1)N=C(O2)/C(=N/O)/CC3=CC=CC=C3</td>\n",
       "      <td>17500.0</td>\n",
       "      <td>1389558</td>\n",
       "      <td>active</td>\n",
       "      <td>16</td>\n",
       "    </tr>\n",
       "    <tr>\n",
       "      <th>158</th>\n",
       "      <td>76329670</td>\n",
       "      <td>CC1(C=CC2=CC(=C(C=C2O1)O)C(=O)/C=C/C3=CC(=C(C=...</td>\n",
       "      <td>1800.0</td>\n",
       "      <td>1485273</td>\n",
       "      <td>inactive</td>\n",
       "      <td>6</td>\n",
       "    </tr>\n",
       "    <tr>\n",
       "      <th>80</th>\n",
       "      <td>5320686</td>\n",
       "      <td>C1=CC(=CC=C1/C=C/C(=O)OC[C@@H]2[C@H]([C@@H]([C...</td>\n",
       "      <td>100000.0</td>\n",
       "      <td>399340</td>\n",
       "      <td>active</td>\n",
       "      <td>10</td>\n",
       "    </tr>\n",
       "    <tr>\n",
       "      <th>326</th>\n",
       "      <td>155903284</td>\n",
       "      <td>C1=CC(=CC=C1C2=NC=NN2)NC(=O)C3C(NC(=O)NC3=O)O</td>\n",
       "      <td>1400.0</td>\n",
       "      <td>1806026</td>\n",
       "      <td>inactive</td>\n",
       "      <td>1</td>\n",
       "    </tr>\n",
       "    <tr>\n",
       "      <th>274</th>\n",
       "      <td>137648214</td>\n",
       "      <td>CCCCC1=NN2C(=N1)C3=C(NC2=O)NN=C3</td>\n",
       "      <td>529.0</td>\n",
       "      <td>1485284</td>\n",
       "      <td>inactive</td>\n",
       "      <td>1</td>\n",
       "    </tr>\n",
       "  </tbody>\n",
       "</table>\n",
       "</div>"
      ],
      "text/plain": [
       "           CID                                             SMILES  IC50(nM)  \\\n",
       "304  145967694        CC1=CC2=C(C=C1)N=C(O2)/C(=N/O)/CC3=CC=CC=C3   17500.0   \n",
       "158   76329670  CC1(C=CC2=CC(=C(C=C2O1)O)C(=O)/C=C/C3=CC(=C(C=...    1800.0   \n",
       "80     5320686  C1=CC(=CC=C1/C=C/C(=O)OC[C@@H]2[C@H]([C@@H]([C...  100000.0   \n",
       "326  155903284      C1=CC(=CC=C1C2=NC=NN2)NC(=O)C3C(NC(=O)NC3=O)O    1400.0   \n",
       "274  137648214                   CCCCC1=NN2C(=N1)C3=C(NC2=O)NN=C3     529.0   \n",
       "\n",
       "         aid      Type  Substructure  \n",
       "304  1389558    active            16  \n",
       "158  1485273  inactive             6  \n",
       "80    399340    active            10  \n",
       "326  1806026  inactive             1  \n",
       "274  1485284  inactive             1  "
      ]
     },
     "execution_count": 28,
     "metadata": {},
     "output_type": "execute_result"
    }
   ],
   "source": [
    "train_dataset.head()"
   ]
  },
  {
   "cell_type": "code",
   "execution_count": 29,
   "metadata": {},
   "outputs": [
    {
     "data": {
      "text/plain": [
       "337"
      ]
     },
     "execution_count": 29,
     "metadata": {},
     "output_type": "execute_result"
    }
   ],
   "source": [
    "len(train_dataset)"
   ]
  },
  {
   "cell_type": "code",
   "execution_count": 30,
   "metadata": {},
   "outputs": [
    {
     "name": "stdout",
     "output_type": "stream",
     "text": [
      "Unclean data size: 410\n",
      "Unclean train dataset: 337\n",
      "Total dataset\n",
      "╒════════════════╤══════════╤════════════╕\n",
      "│                │   Active │   Inactive │\n",
      "╞════════════════╪══════════╪════════════╡\n",
      "│ Number         │ 187      │   150      │\n",
      "├────────────────┼──────────┼────────────┤\n",
      "│ Percentage (%) │  55.4896 │    44.5104 │\n",
      "╘════════════════╧══════════╧════════════╛\n",
      "\n",
      "Unclean test dataset: 73\n",
      "Total dataset\n",
      "╒════════════════╤══════════╤════════════╕\n",
      "│                │   Active │   Inactive │\n",
      "╞════════════════╪══════════╪════════════╡\n",
      "│ Number         │  40      │    33      │\n",
      "├────────────────┼──────────┼────────────┤\n",
      "│ Percentage (%) │  54.7945 │    45.2055 │\n",
      "╘════════════════╧══════════╧════════════╛\n",
      "\n",
      "Unclean external dataset: 73\n",
      "Total dataset\n",
      "╒════════════════╤══════════╤════════════╕\n",
      "│                │   Active │   Inactive │\n",
      "╞════════════════╪══════════╪════════════╡\n",
      "│ Number         │  40      │    33      │\n",
      "├────────────────┼──────────┼────────────┤\n",
      "│ Percentage (%) │  54.7945 │    45.2055 │\n",
      "╘════════════════╧══════════╧════════════╛\n",
      "\n"
     ]
    }
   ],
   "source": [
    "print(\"Unclean data size: \" + str(len(train_test_data)))\n",
    "print(\"Unclean train dataset: \" + str(len(train_dataset)))\n",
    "check_activity_distribution(train_dataset, 'Type')\n",
    "print()\n",
    "print(\"Unclean test dataset: \" + str(len(test_dataset)))\n",
    "check_activity_distribution(test_dataset, 'Type')\n",
    "print()\n",
    "print(\"Unclean external dataset: \" + str(len(validation_dataset)))\n",
    "check_activity_distribution(validation_dataset, 'Type')\n",
    "print()"
   ]
  },
  {
   "cell_type": "code",
   "execution_count": 31,
   "metadata": {},
   "outputs": [],
   "source": [
    "# Write to file\n",
    "with pd.ExcelWriter(train_test_data_path+train_test_file_name, engine='openpyxl') as writer:\n",
    "    train_dataset.to_excel(writer, sheet_name='train_dataset', index=False)\n",
    "    test_dataset.to_excel(writer, sheet_name='test_dataset', index=False)\n",
    "    validation_dataset.to_excel(writer, sheet_name='validation_dataset', index=False)"
   ]
  }
 ],
 "metadata": {
  "kernelspec": {
   "display_name": "Python 3",
   "language": "python",
   "name": "python3"
  },
  "language_info": {
   "codemirror_mode": {
    "name": "ipython",
    "version": 3
   },
   "file_extension": ".py",
   "mimetype": "text/x-python",
   "name": "python",
   "nbconvert_exporter": "python",
   "pygments_lexer": "ipython3",
   "version": "3.12.2"
  },
  "orig_nbformat": 4
 },
 "nbformat": 4,
 "nbformat_minor": 2
}
